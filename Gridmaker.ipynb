{
 "cells": [
  {
   "cell_type": "raw",
   "metadata": {},
   "source": [
    "This script creates 3-dimensional grids of k-vectors, delta1 and theta1 from k=-20 to 20 Mpc^-1 in all three dimensions and delta2 and theta2 from k=-20 to 20 Mpc^-1 in all three dimensions. The spacing between grid points is 0.5 Mpc^-1 in all three dimensions. It also produces a sum of deltas 1 and 2 and thetas 1 and 2 in this grid.\n",
    "\n",
    "Other than standard Python packages, this script uses two small modules I have written myself, FF2 and myfuncs as well as the classy wrapper for CLASS. CLASS is available at class-code.net"
   ]
  },
  {
   "cell_type": "code",
   "execution_count": null,
   "metadata": {
    "collapsed": true
   },
   "outputs": [],
   "source": [
    "#Import necessary packages\n",
    "import numpy as np\n",
    "from classy import Class\n",
    "from scipy.interpolate import interp1d\n",
    "import FF2\n",
    "import myfuncs as my\n",
    "from numpy import linalg as LA\n",
    "import pickle"
   ]
  },
  {
   "cell_type": "code",
   "execution_count": null,
   "metadata": {
    "collapsed": true
   },
   "outputs": [],
   "source": [
    "#Run ClASS-code and get transfer function for delta_cdm\n",
    "cosmo = Class()\n",
    "cosmo.set({'output':'tCl mPk dTk vTk','P_k_max_1/Mpc':35, 'gauge':'Synchronous','z_pk':'100., 0.'})\n",
    "cosmo.compute()\n",
    "tr = cosmo.get_transfer(49)\n",
    "delta_cdm = tr['d_cdm']\n",
    "k= tr['k (h/Mpc)']*cosmo.h()"
   ]
  },
  {
   "cell_type": "code",
   "execution_count": null,
   "metadata": {
    "collapsed": false
   },
   "outputs": [],
   "source": [
    "# Create interpolating function for transfer function\n",
    "dfunc = interp1d(k, delta_cdm, kind='cubic', bounds_error=False, fill_value=0)"
   ]
  },
  {
   "cell_type": "code",
   "execution_count": null,
   "metadata": {
    "collapsed": true
   },
   "outputs": [],
   "source": [
    "# define class for saving data\n",
    "class data:\n",
    "    \n",
    "    def __init__(self, Dat):\n",
    "        self.Dat = Dat\n",
    "        self.K = []\n",
    "        self.Kused = []\n",
    "        self.Kl = []\n",
    "        self.Klu = []\n",
    "        self.d1 = []\n",
    "        self.d2 = []\n",
    "        self.t1 = []\n",
    "        self.t2 = []\n",
    "        self.dsum = []\n",
    "        self.tsum = []"
   ]
  },
  {
   "cell_type": "code",
   "execution_count": null,
   "metadata": {
    "collapsed": true
   },
   "outputs": [],
   "source": [
    "#define dataset\n",
    "dataset = data('DatSetName')"
   ]
  },
  {
   "cell_type": "code",
   "execution_count": null,
   "metadata": {
    "collapsed": false
   },
   "outputs": [],
   "source": [
    "\n",
    "#define array of k-vectors\n",
    "KARRAY = my.grid3D(-20,20,81)\n",
    "\n",
    "Kused = KARRAY[20:61,20:61,20:61,:]\n",
    "\n",
    "dataset.K = KARRAY\n",
    "dataset.Kused = Kused"
   ]
  },
  {
   "cell_type": "code",
   "execution_count": null,
   "metadata": {
    "collapsed": false
   },
   "outputs": [],
   "source": [
    "#create array of random numbers fulfilling symmetry requirements\n",
    "R = np.random.normal(0,1,(81,81,81))+1j*np.random.normal(0,1,(81,81,81))\n",
    "\n",
    "for x in range(0,81):\n",
    "    for y in range(0,81):\n",
    "        for z in range(0,81):\n",
    "            R[x,y,z] = np.conj(R[80-x,80-y,80-z])\n",
    "\n",
    "Rused = R[20:61,20:61,20:61]"
   ]
  },
  {
   "cell_type": "code",
   "execution_count": null,
   "metadata": {
    "collapsed": false
   },
   "outputs": [],
   "source": [
    "#creating array with lengths of k-vectors, setting length-0 to 1e-9 to prevent division with zero\n",
    "Klen = LA.norm(KARRAY, axis=3)\n",
    "Klen[40,40,40] = 1e-9\n",
    "Klu = Klen[20:61,20:61,20:61]"
   ]
  },
  {
   "cell_type": "code",
   "execution_count": null,
   "metadata": {
    "collapsed": false
   },
   "outputs": [],
   "source": [
    "#calculate physical delta1 and theta1 from CLASS transfer function\n",
    "As=np.exp(3.089)*1e-10\n",
    "ns=0.9655\n",
    "d1 = dfunc(Klen)*R*np.sqrt(As/(4*np.pi**2))*Klen**(-3./2.) * (Klen/0.05)**((ns-1)/2)\n",
    "d1used = d1[20:61,20:61,20:61]\n",
    "d1mK = np.flip(np.flip(np.flip(d1,2) ,1) ,0)\n",
    "theta1 = -d1\n",
    "theta1used = -d1used\n",
    "\n",
    "dataset.d1 = d1\n",
    "dataset.t1 = theta1"
   ]
  },
  {
   "cell_type": "code",
   "execution_count": null,
   "metadata": {
    "collapsed": false
   },
   "outputs": [],
   "source": [
    "#creating arrays for delta2 and theta2\n",
    "d2 = np.empty((41,41,41), dtype=complex)\n",
    "theta2 = np.empty((41,41,41), dtype=complex)\n",
    "\n",
    "#calculating delta and theta2\n",
    "for x in range(0,41):\n",
    "    for y in range(0,41):\n",
    "        for z in range(0,41):\n",
    "            K = Kused[x,y,z,:]\n",
    "            KminQ = K - Kused\n",
    "            KmQl = LA.norm(KminQ, axis=3)\n",
    "            KmQl[KmQl==0]=1e-9\n",
    "            cPhi = np.sum(KminQ*Kused,3)/(Klu*KmQl)\n",
    "            F2 = FF2.F2s(Klu,KmQl,cPhi)\n",
    "            G2 = FF2.G2s(Klu,KmQl,cPhi)\n",
    "            intfuncd = F2*d1used*d1mK[40-x:81-x,40-y:81-y,40-z:81-z]\n",
    "            intfunct = G2*d1used*d1mK[40-x:81-x,40-y:81-y,40-z:81-z]\n",
    "            d2[x,y,z] = np.sum(intfuncd)*0.5**3\n",
    "            theta2[x,y,z] = - np.sum(intfunct)*0.5**3\n",
    "            numdone = numdone + 1\n",
    "    print numdone/41**3\n",
    "\n",
    "    \n",
    "dataset.d2 = d2\n",
    "dataset.t2 = theta2"
   ]
  },
  {
   "cell_type": "code",
   "execution_count": null,
   "metadata": {
    "collapsed": false
   },
   "outputs": [],
   "source": [
    "#creating full deltas and thetas\n",
    "d1pd2 = d1[20:61,20:61,20:61]+d2\n",
    "t1pt2 = theta1[20:61,20:61,20:61]+theta2\n",
    "\n",
    "dataset.dsum = d1pd2\n",
    "dataset.tsum = t1pt2"
   ]
  },
  {
   "cell_type": "code",
   "execution_count": null,
   "metadata": {
    "collapsed": true
   },
   "outputs": [],
   "source": [
    "#saving data with pickle\n",
    "pickle.dump(dataset,open(\"DatSetK10fixZ49.p\",\"wb\"))"
   ]
  }
 ],
 "metadata": {
  "kernelspec": {
   "display_name": "Python 2",
   "language": "python",
   "name": "python2"
  },
  "language_info": {
   "codemirror_mode": {
    "name": "ipython",
    "version": 2
   },
   "file_extension": ".py",
   "mimetype": "text/x-python",
   "name": "python",
   "nbconvert_exporter": "python",
   "pygments_lexer": "ipython2",
   "version": "2.7.13"
  }
 },
 "nbformat": 4,
 "nbformat_minor": 2
}
