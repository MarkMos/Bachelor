{
 "cells": [
  {
   "cell_type": "code",
   "execution_count": null,
   "metadata": {
    "collapsed": true
   },
   "outputs": [],
   "source": [
    "# Import necessary packages\n",
    "import numpy as np\n",
    "import pickle\n",
    "from numpy import linalg as LA"
   ]
  },
  {
   "cell_type": "code",
   "execution_count": null,
   "metadata": {
    "collapsed": true
   },
   "outputs": [],
   "source": [
    "# Declare data-class as used in my data\n",
    "class data:\n",
    "    \n",
    "    def __init__(self, Dat):\n",
    "        self.Dat = Dat\n",
    "        self.K = []\n",
    "        self.Kl = []\n",
    "        self.Kused = []\n",
    "        self.Klu = []\n",
    "        self.d1 = []\n",
    "        self.d2 = []\n",
    "        self.t1 = []\n",
    "        self.t2 = []\n",
    "        self.dsum = []\n",
    "        self.tsum = []"
   ]
  },
  {
   "cell_type": "code",
   "execution_count": null,
   "metadata": {
    "collapsed": true
   },
   "outputs": [],
   "source": [
    "#Load data\n",
    "dataset = pickle.load(open(\"DatSetK10fixZ49.p\", \"rb\"))"
   ]
  },
  {
   "cell_type": "code",
   "execution_count": null,
   "metadata": {
    "collapsed": false
   },
   "outputs": [],
   "source": [
    "#Define used data\n",
    "Kdm = dataset.Kused\n",
    "delta = dataset.dsum\n",
    "theta = dataset.tsum\n",
    "\n",
    "\n",
    "\n",
    "# If one does not wish to compare the full delta and theta, but rather the individual components, then use either of\n",
    "#delta = dataset.d1[20:61,20:61,20:61]\n",
    "#theta = dataset.t1[20:61,20:61,20:61]\n",
    "#delta = dataset.d2\n",
    "#theta = dataset.t2\n",
    "\n",
    "#thetas is alwasy the full theta, as this is the theta with which the sign is correlated. The nonlinear mode-coupling is only seen when using the sign of the full theta\n",
    "thetas = dataset.tsum"
   ]
  },
  {
   "cell_type": "code",
   "execution_count": null,
   "metadata": {
    "collapsed": false
   },
   "outputs": [],
   "source": [
    "# Arrays for the binning of i^theta_theta,delta (abbreviated ittd) and the number of datapoints in each bin are correlated\n",
    "ittd = np.zeros((18,18))\n",
    "nums = np.zeros((18,18))\n",
    "# In order to keep track of how far along the calculations has proceeded (the calculation takes several hours, I used 17-30 hours depending on pc), I have printed progress regularly. Here I set the number of ittds calculated so far to 0\n",
    "numdone = 0\n",
    "\n",
    "# Here I calculate my ittds\n",
    "for xdm in range(0,41):\n",
    "    print numdone/41.0**6\n",
    "    for ydm in range(0,41):\n",
    "        for zdm in range(0,41):\n",
    "            #Here I calculate the length of my k''-vector, so that it is only done once for each k''\n",
    "            KdmL = LA.norm(Kdm[xdm,ydm,zdm,:])\n",
    "            \n",
    "            #Here I set the amount of calculations done to include all the calculations that will be done for this k''\n",
    "            numdone = numdone + 41**3\n",
    "            for xm in range(0,41):\n",
    "                for ym in range(0,41):\n",
    "                    for zm in range(0,41):\n",
    "                        # Here I define my k as k'+k''\n",
    "                        K = Kdm[xdm,ydm,zdm,:] + Kdm[xm,ym,zm,:]\n",
    "                        \n",
    "                        # I determine if my k-vector falls outside the grid where my delta and theta are defined, if yes, I skip this calculation, as I have no theta(K) to use\n",
    "                        if any(K>10) or any(K<-10):\n",
    "                            continue\n",
    "                        \n",
    "                        #Here I calculate the length of my k-vecor\n",
    "                        KL = np.sqrt(K[0]*K[0]+K[1]*K[1]+K[2]*K[2])\n",
    "                        \n",
    "                        #and here the length of my k'-vector squared\n",
    "                        KmLsq = Kdm[xm,ym,zm,0]*Kdm[xm,ym,zm,0]+Kdm[xm,ym,zm,1]*Kdm[xm,ym,zm,1]+Kdm[xm,ym,zm,2]*Kdm[xm,ym,zm,2]\n",
    "                        \n",
    "                        #I check if the length of k' is zero, if it is, I set it to a very small number to avoid division by zero\n",
    "                        if KmLsq == 0:\n",
    "                            KmLsq = 1e-9\n",
    "                        \n",
    "                        #Here I calculate i_theta,delta\n",
    "                        idt = (K[0]*Kdm[xm,ym,zm,0]+K[1]*Kdm[xm,ym,zm,1]+K[2]*Kdm[xm,ym,zm,2])/KmLsq * theta[xm,ym,zm]* delta[xdm,ydm,zdm]\n",
    "                        \n",
    "                        \n",
    "                        # Here I calculate the appropriate index from my k-vector in order to find theta(k)\n",
    "                        Ki = (K + 10)*2\n",
    "                        thetaK = theta[int(Ki[0]),int(Ki[1]),int(Ki[2])]\n",
    "                            \n",
    "                            \n",
    "                        #Here I create integer indexes for binning by length of k and k''\n",
    "                        iKdm = int(KdmL//1)\n",
    "                        iK = int(KL//1)\n",
    "                        \n",
    "                        \n",
    "                        #Here I finally calculate ittd and add it to the array, as well as adding 1 to the datapoint couter for this bin\n",
    "                        ittd[iKdm,iK] = ittd[iKdm,iK] + np.real(idt) * np.sign(np.real(thetaK)) + np.imag(idt) * np.sign(np.imag(thetaK))\n",
    "                        nums[iKdm,iK] = nums[iKdm,iK] +1\n",
    "                            \n",
    "                        \n",
    "                        \n",
    "                        \n",
    "                        "
   ]
  },
  {
   "cell_type": "code",
   "execution_count": null,
   "metadata": {
    "collapsed": false
   },
   "outputs": [],
   "source": [
    "# The ittd and datapoint-counter arrays are saved\n",
    "np.save('ittd',ittd)\n",
    "np.save('nums',nums)"
   ]
  }
 ],
 "metadata": {
  "kernelspec": {
   "display_name": "Python 2",
   "language": "python",
   "name": "python2"
  },
  "language_info": {
   "codemirror_mode": {
    "name": "ipython",
    "version": 2
   },
   "file_extension": ".py",
   "mimetype": "text/x-python",
   "name": "python",
   "nbconvert_exporter": "python",
   "pygments_lexer": "ipython2",
   "version": "2.7.13"
  }
 },
 "nbformat": 4,
 "nbformat_minor": 2
}
